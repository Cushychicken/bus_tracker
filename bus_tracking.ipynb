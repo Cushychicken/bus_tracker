{
 "metadata": {
  "name": ""
 },
 "nbformat": 3,
 "nbformat_minor": 0,
 "worksheets": [
  {
   "cells": [
    {
     "cell_type": "code",
     "collapsed": false,
     "input": [
      "import requests\n",
      "from bs4 import BeautifulSoup\n",
      "from math import radians, cos, sin, asin, sqrt\n",
      "\n",
      "def km_to_miles(km):\n",
      "    \"\"\"\n",
      "    Because this is AMERICA, dammit\n",
      "    \"\"\"\n",
      "    return 0.6214 * km\n",
      "\n",
      "def haversine(coord1, coord2):\n",
      "    \"\"\"\n",
      "    Calculate the great circle distance between two points \n",
      "    on the earth (specified in decimal degrees)\n",
      "    \"\"\"\n",
      "    # convert decimal degrees to radians \n",
      "    lon1, lat1, lon2, lat2 = map(radians, [coord1[1], coord1[0], coord2[1], coord2[0]])\n",
      "\n",
      "    # haversine formula \n",
      "    dlon = lon2 - lon1 \n",
      "    dlat = lat2 - lat1 \n",
      "    a = sin(dlat/2)**2 + cos(lat1) * cos(lat2) * sin(dlon/2)**2\n",
      "    c = 2 * asin(sqrt(a)) \n",
      "\n",
      "    # 6367 km is the radius of the Earth\n",
      "    km = 6367 * c\n",
      "    return km_to_miles(km) \n",
      "\n",
      "\n",
      "# Known locations\n",
      "DAVIS_SQUARE = (42.396589, -71.122363)\n",
      "UNION_SQUARE = (42.380298, -71.096592)\n",
      "DAVIS_TO_UNION = haversine(DAVIS_SQUARE, UNION_SQUARE)\n",
      "HOME = (42.387048, -71.114295)"
     ],
     "language": "python",
     "metadata": {},
     "outputs": [],
     "prompt_number": 44
    },
    {
     "cell_type": "code",
     "collapsed": false,
     "input": [
      "BUS_URL = 'http://webservices.nextbus.com/service/publicXMLFeed?command=vehicleLocations&a=mbta&t=0'\n",
      "r = requests.get(BUS_URL)"
     ],
     "language": "python",
     "metadata": {},
     "outputs": [],
     "prompt_number": 50
    },
    {
     "cell_type": "code",
     "collapsed": false,
     "input": [
      "soup = BeautifulSoup(r.text)\n",
      "bus_locations = []\n",
      "for v in soup.findAll('vehicle', routetag='87'):\n",
      "    bus_locations.append(v)\n",
      "for loc in bus_locations:\n",
      "    b = (float(loc.attrs['lat']), float(loc.attrs['lon']))\n",
      "    print 'Distance to Davis:', str(haversine(b, DAVIS_SQUARE))\n",
      "    print 'Distance to Union:', str(haversine(b, UNION_SQUARE))\n",
      "    print 'Bus direction    :', loc.attrs['dirtag']\n",
      "    print 'Bus ID           :', loc.attrs['id']87\n",
      "    print"
     ],
     "language": "python",
     "metadata": {},
     "outputs": [
      {
       "output_type": "stream",
       "stream": "stdout",
       "text": [
        "Distance to Davis: 1.1297021776\n",
        "Distance to Union: 2.85487406797\n",
        "Bus direction    : 87_1_var0\n",
        "Bus ID           : 0283\n",
        "\n",
        "Distance to Davis: 1.15396618935\n",
        "Distance to Union: 0.629477620499\n",
        "Bus direction    : 87_0_var0\n",
        "Bus ID           : 0627\n",
        "\n",
        "Distance to Davis: 1.64345849846\n",
        "Distance to Union: 0.0935037540919\n",
        "Bus direction    : 87_1_var0\n",
        "Bus ID           : 0363\n",
        "\n"
       ]
      }
     ],
     "prompt_number": 51
    },
    {
     "cell_type": "code",
     "collapsed": false,
     "input": [
      "# 87_1_var0 == Lechmere\n",
      "# 87_0_var0 == Arlington\n",
      "\n",
      "bus_locations[0].attrs.keys()"
     ],
     "language": "python",
     "metadata": {},
     "outputs": [
      {
       "metadata": {},
       "output_type": "pyout",
       "prompt_number": 48,
       "text": [
        "['lon',\n",
        " 'secssincereport',\n",
        " 'id',\n",
        " 'routetag',\n",
        " 'predictable',\n",
        " 'lat',\n",
        " 'dirtag',\n",
        " 'heading']"
       ]
      }
     ],
     "prompt_number": 48
    },
    {
     "cell_type": "code",
     "collapsed": false,
     "input": [],
     "language": "python",
     "metadata": {},
     "outputs": []
    }
   ],
   "metadata": {}
  }
 ]
}